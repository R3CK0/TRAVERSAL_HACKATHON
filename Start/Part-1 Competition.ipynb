{
 "cells": [
  {
   "cell_type": "code",
   "execution_count": 1,
   "id": "3eeb56d5",
   "metadata": {
    "scrolled": true
   },
   "outputs": [],
   "source": [
    "import glob\n",
    "import cv2\n",
    "import os\n",
    "import json"
   ]
  },
  {
   "cell_type": "code",
   "execution_count": 5,
   "id": "2b7e8877",
   "metadata": {},
   "outputs": [],
   "source": [
    "def load_annotations(annotation_file):\n",
    "    with open(annotation_file, 'r') as file:\n",
    "        return json.load(file)\n",
    "    \n"
   ]
  },
  {
   "cell_type": "code",
   "execution_count": 7,
   "id": "ff99492e",
   "metadata": {},
   "outputs": [],
   "source": [
    "# Combine Cocos and save in one\n",
    "coco1 = load_annotations('Coco_1.json')\n",
    "image_len_1 = len(coco1['images'])\n",
    "annotations_len_1 = len(coco1['annotations'])\n",
    "coco2 = load_annotations('Coco_2.json')\n",
    "coco = coco1.copy()\n",
    "for image in coco2['images']:\n",
    "    im = image.copy()\n",
    "    im['id'] += image_len_1\n",
    "    coco['images'].append(im)\n",
    "for annotation in coco2[\"annotations\"]:\n",
    "    ann = annotation.copy()\n",
    "    ann['id'] += annotations_len_1\n",
    "    ann['image_id'] += image_len_1\n",
    "    coco['annotations'].append(ann)\n",
    "\n",
    "with open('Coco.json', 'w') as file:\n",
    "    json.dump(coco, file)"
   ]
  },
  {
   "cell_type": "code",
   "execution_count": 8,
   "id": "b48f813e",
   "metadata": {},
   "outputs": [
    {
     "data": {
      "text/plain": [
       "(1839, 6274)"
      ]
     },
     "execution_count": 8,
     "metadata": {},
     "output_type": "execute_result"
    }
   ],
   "source": [
    "len(coco['images']), len(coco['annotations'])"
   ]
  },
  {
   "cell_type": "code",
   "execution_count": 9,
   "id": "12c935c5",
   "metadata": {},
   "outputs": [],
   "source": [
    "def lookup_annotations(image_name, coco):\n",
    "    image_id = None\n",
    "    for image in coco['images']:\n",
    "        if image['file_name'] == image_name:\n",
    "            image_id = image['id']\n",
    "            break\n",
    "    if image_id is None:\n",
    "        return []\n",
    "    return [annotation for annotation in coco['annotations'] if annotation['image_id'] == image_id]"
   ]
  },
  {
   "cell_type": "code",
   "execution_count": 11,
   "id": "9d27b016",
   "metadata": {},
   "outputs": [
    {
     "data": {
      "text/plain": [
       "[{'segmentation': [[842, 188, 949, 188, 949, 377, 842, 377]],\n",
       "  'area': 20223,\n",
       "  'bbox': [842, 188, 107, 189],\n",
       "  'iscrowd': 0,\n",
       "  'id': 3599,\n",
       "  'image_id': 1052,\n",
       "  'category_id': 2},\n",
       " {'segmentation': [[726, 250, 833, 250, 833, 350, 726, 350]],\n",
       "  'area': 10700,\n",
       "  'bbox': [726, 250, 107, 100],\n",
       "  'iscrowd': 0,\n",
       "  'id': 3600,\n",
       "  'image_id': 1052,\n",
       "  'category_id': 3},\n",
       " {'segmentation': [[781, 237, 829, 237, 829, 308, 781, 308]],\n",
       "  'area': 3408,\n",
       "  'bbox': [781, 237, 48, 71],\n",
       "  'iscrowd': 0,\n",
       "  'id': 3601,\n",
       "  'image_id': 1052,\n",
       "  'category_id': 1}]"
      ]
     },
     "execution_count": 11,
     "metadata": {},
     "output_type": "execute_result"
    }
   ],
   "source": [
    "#Test image annotation extraction\n",
    "annotation = lookup_annotations(\"frame_0_30.jpg\", coco)\n",
    "annotation"
   ]
  },
  {
   "cell_type": "code",
   "execution_count": 4,
   "id": "54c1162f-30a1-44a2-b237-2df4690b2072",
   "metadata": {},
   "outputs": [],
   "source": [
    "face_cat_id = 2\n",
    "phone_cat_id = 1\n",
    "\n",
    "\n",
    "folders = [\"0\",\"1\"]\n",
    "cnt = 0\n",
    "for folder in folders:\n",
    "    folder_source = \"IMAGES\\\\\"+folder+\"\\\\\"\n",
    "    for index,img_p in enumerate(glob.glob(folder_source+\"*\")):\n",
    "        \n",
    "        folder_destination = \"PREPROCESSED_IMAGES\\\\\"+folder+\"\\\\\"\n",
    "        \n",
    "\n"
   ]
  },
  {
   "cell_type": "code",
   "execution_count": null,
   "id": "a3e2e5b8-7456-4365-be94-1848c9578589",
   "metadata": {},
   "outputs": [],
   "source": [
    "\n"
   ]
  }
 ],
 "metadata": {
  "kernelspec": {
   "display_name": "Python 3 (ipykernel)",
   "language": "python",
   "name": "python3"
  },
  "language_info": {
   "codemirror_mode": {
    "name": "ipython",
    "version": 3
   },
   "file_extension": ".py",
   "mimetype": "text/x-python",
   "name": "python",
   "nbconvert_exporter": "python",
   "pygments_lexer": "ipython3",
   "version": "3.11.9"
  }
 },
 "nbformat": 4,
 "nbformat_minor": 5
}
