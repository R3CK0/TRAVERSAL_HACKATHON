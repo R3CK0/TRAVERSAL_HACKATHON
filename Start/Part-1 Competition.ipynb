{
 "cells": [
  {
   "cell_type": "code",
   "execution_count": 1,
   "id": "3eeb56d5",
   "metadata": {
    "scrolled": true
   },
   "outputs": [],
   "source": [
    "import glob\n",
    "import cv2\n",
    "import os\n",
    "import json"
   ]
  },
  {
   "cell_type": "code",
   "execution_count": 4,
   "id": "54c1162f-30a1-44a2-b237-2df4690b2072",
   "metadata": {},
   "outputs": [],
   "source": [
    "face_cat_id = 2\n",
    "phone_cat_id = 1\n",
    "\n",
    "\n",
    "folders = [\"0\",\"1\"]\n",
    "cnt = 0\n",
    "for folder in folders:\n",
    "    folder_source = \"IMAGES\\\\\"+folder+\"\\\\\"\n",
    "    for index,img_p in enumerate(glob.glob(folder_source+\"*\")):\n",
    "        folder_destination = \"PREPROCESSED_IMAGES\\\\\"+folder+\"\\\\\"\n",
    "        \n",
    "\n"
   ]
  },
  {
   "cell_type": "code",
   "execution_count": null,
   "id": "a3e2e5b8-7456-4365-be94-1848c9578589",
   "metadata": {},
   "outputs": [],
   "source": [
    "\n"
   ]
  }
 ],
 "metadata": {
  "kernelspec": {
   "display_name": "Python 3 (ipykernel)",
   "language": "python",
   "name": "python3"
  },
  "language_info": {
   "codemirror_mode": {
    "name": "ipython",
    "version": 3
   },
   "file_extension": ".py",
   "mimetype": "text/x-python",
   "name": "python",
   "nbconvert_exporter": "python",
   "pygments_lexer": "ipython3",
   "version": "3.11.9"
  }
 },
 "nbformat": 4,
 "nbformat_minor": 5
}
