{
 "cells": [
  {
   "cell_type": "code",
   "execution_count": null,
   "id": "169986de",
   "metadata": {},
   "outputs": [],
   "source": [
    "import torch\n",
    "import matplotlib.pyplot as plt\n",
    "import torchvision\n",
    "import cv2\n",
    "import glob"
   ]
  },
  {
   "cell_type": "code",
   "execution_count": null,
   "id": "0dbcb3e0",
   "metadata": {},
   "outputs": [],
   "source": [
    "def run_yolo(model,image_path):\n",
    "    \"\"\"\n",
    "    ids = {\n",
    "        CIH__id: 0,\n",
    "        Cell: 4,\n",
    "        face_id: 1,\n",
    "    }\n",
    "    \"\"\"\n",
    "    \n",
    "    results = model(image_path)\n",
    "\n",
    "    \n",
    "    results.save()\n",
    "    \n",
    "    return image, output"
   ]
  },
  {
   "cell_type": "code",
   "execution_count": null,
   "id": "e2730f84",
   "metadata": {},
   "outputs": [],
   "source": [
    "import pathlib\n",
    "temp = pathlib.PosixPath\n",
    "pathlib.PosixPath = pathlib.WindowsPath\n",
    "\n",
    "\n",
    "# To run the model You just need to clone yolov5 repository from github \n",
    "# and add new_yolo_2.pt into yolov5\\models\\ directory\n",
    "# https://github.com/ultralytics/yolov5\n",
    "device = torch.device('cuda' if torch.cuda.is_available() else 'cpu')\n",
    "\n",
    "model = torch.hub.load(r\"yolov5\", 'custom', path=r\"yolov5\\models\\new_yolo_2.pt\", source='local') \n",
    "\n",
    "#model.conf = 0.50  # confidence threshold (0-1)\n",
    "#model.iou = 0.45  # NMS IoU threshold (0-1)  \n",
    "\n",
    "model = model.to(device)"
   ]
  },
  {
   "cell_type": "code",
   "execution_count": null,
   "id": "8e917b18",
   "metadata": {
    "scrolled": true
   },
   "outputs": [],
   "source": [
    "# Class Names: [\"Cell Phone\", \"Face\", \"Hand\", \"OOD\", \"Cell Phone Attached\"]\n",
    "\n",
    "results = {}\n",
    "ids = {\n",
    "    \"CIH__id\": 0,\n",
    "    \"Cell\": 4,\n",
    "    \"face_id\": 1,\n",
    "}\n",
    "\n",
    "status = [\"0\",\"1\"]\n",
    "labels,inputs = [], []\n",
    "\n",
    "for i,s in enumerate(status):\n",
    "    for index,image_path in enumerate(glob.glob(\"BLURRED_IMAGES\\\\\"+s+\"\\\\*\")):\n",
    "        \"\"\"\n",
    "        PART 2: FILL THIS AREA\n",
    "        \"\"\"\n"
   ]
  },
  {
   "cell_type": "code",
   "execution_count": null,
   "id": "9b0eb4d7-ba42-4471-96c0-79a313001c30",
   "metadata": {},
   "outputs": [],
   "source": [
    "def run_yolo_hand_Extraction(model,image_path,ids):\n",
    "    \"\"\"\n",
    "    ids = {\n",
    "        CIH__id: 0,\n",
    "        Cell: 4,\n",
    "        face_id: 1,\n",
    "    }\n",
    "    \"\"\"\n",
    "    \n",
    "    results = model(image_path)\n",
    "\n",
    "    \"\"\"\n",
    "    PART 3: FILL THIS AREA\n",
    "    \"\"\"\n",
    "        \n",
    "    return 0\n",
    "\n",
    "\n",
    "status = [\"1\",\"0\"]\n",
    "labels,inputs = [], []\n",
    "\n",
    "ids = {\n",
    "    \"CIH__id\": 0,\n",
    "    \"Cell\": 4,\n",
    "    \"face_id\": 1,\n",
    "}\n",
    "\n",
    "for i,s in enumerate(status):\n",
    "    for index,image_path in enumerate(glob.glob(\"BLURRED_IMAGES\\\\\"+s+\"\\\\*\")):\n",
    "        \"\"\"\n",
    "        PART 3: FILL THIS AREA\n",
    "        \"\"\"\n"
   ]
  },
  {
   "cell_type": "code",
   "execution_count": null,
   "id": "0ffa49ae-3c2e-4437-88b6-1f9ddfa467fe",
   "metadata": {},
   "outputs": [],
   "source": []
  }
 ],
 "metadata": {
  "kernelspec": {
   "display_name": "Python 3 (ipykernel)",
   "language": "python",
   "name": "python3"
  },
  "language_info": {
   "codemirror_mode": {
    "name": "ipython",
    "version": 3
   },
   "file_extension": ".py",
   "mimetype": "text/x-python",
   "name": "python",
   "nbconvert_exporter": "python",
   "pygments_lexer": "ipython3",
   "version": "3.9.12"
  }
 },
 "nbformat": 4,
 "nbformat_minor": 5
}
